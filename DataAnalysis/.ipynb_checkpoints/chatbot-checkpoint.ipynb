{
 "cells": [
  {
   "cell_type": "code",
   "execution_count": 1,
   "metadata": {},
   "outputs": [],
   "source": [
    "import pandas as pd\n",
    "import pyttsx3\n",
    "from sklearn import preprocessing\n",
    "from sklearn.tree import DecisionTreeClassifier,_tree\n",
    "import numpy as np\n",
    "from sklearn.model_selection import train_test_split\n",
    "from sklearn.model_selection import cross_val_score\n",
    "from sklearn.svm import SVC\n",
    "import csv\n",
    "import warnings\n",
    "warnings.filterwarnings(\"ignore\", category=DeprecationWarning)"
   ]
  },
  {
   "cell_type": "code",
   "execution_count": 2,
   "metadata": {},
   "outputs": [],
   "source": [
    "training = pd.read_csv('SH-chatbot-Data/Training.csv')\n",
    "testing= pd.read_csv('SH-chatbot-Data/Testing.csv')\n",
    "cols= training.columns\n",
    "cols= cols[:-1]\n",
    "x = training[cols]\n",
    "y = training['prognosis']\n",
    "y1= y"
   ]
  },
  {
   "cell_type": "code",
   "execution_count": 3,
   "metadata": {},
   "outputs": [
    {
     "data": {
      "text/plain": [
       "0    Fungal infection\n",
       "1    Fungal infection\n",
       "2    Fungal infection\n",
       "3    Fungal infection\n",
       "4    Fungal infection\n",
       "Name: prognosis, dtype: object"
      ]
     },
     "execution_count": 3,
     "metadata": {},
     "output_type": "execute_result"
    }
   ],
   "source": [
    "y.head()"
   ]
  },
  {
   "cell_type": "code",
   "execution_count": 4,
   "metadata": {},
   "outputs": [],
   "source": [
    "# grouping the training set by the maximum occuring disease\n",
    "reduced_data = training.groupby(training['prognosis']).max()"
   ]
  },
  {
   "cell_type": "code",
   "execution_count": 5,
   "metadata": {},
   "outputs": [
    {
     "data": {
      "text/html": [
       "<div>\n",
       "<style scoped>\n",
       "    .dataframe tbody tr th:only-of-type {\n",
       "        vertical-align: middle;\n",
       "    }\n",
       "\n",
       "    .dataframe tbody tr th {\n",
       "        vertical-align: top;\n",
       "    }\n",
       "\n",
       "    .dataframe thead th {\n",
       "        text-align: right;\n",
       "    }\n",
       "</style>\n",
       "<table border=\"1\" class=\"dataframe\">\n",
       "  <thead>\n",
       "    <tr style=\"text-align: right;\">\n",
       "      <th></th>\n",
       "      <th>itching</th>\n",
       "      <th>skin_rash</th>\n",
       "      <th>nodal_skin_eruptions</th>\n",
       "      <th>continuous_sneezing</th>\n",
       "      <th>shivering</th>\n",
       "      <th>chills</th>\n",
       "      <th>joint_pain</th>\n",
       "      <th>stomach_pain</th>\n",
       "      <th>acidity</th>\n",
       "      <th>ulcers_on_tongue</th>\n",
       "      <th>...</th>\n",
       "      <th>pus_filled_pimples</th>\n",
       "      <th>blackheads</th>\n",
       "      <th>scurring</th>\n",
       "      <th>skin_peeling</th>\n",
       "      <th>silver_like_dusting</th>\n",
       "      <th>small_dents_in_nails</th>\n",
       "      <th>inflammatory_nails</th>\n",
       "      <th>blister</th>\n",
       "      <th>red_sore_around_nose</th>\n",
       "      <th>yellow_crust_ooze</th>\n",
       "    </tr>\n",
       "    <tr>\n",
       "      <th>prognosis</th>\n",
       "      <th></th>\n",
       "      <th></th>\n",
       "      <th></th>\n",
       "      <th></th>\n",
       "      <th></th>\n",
       "      <th></th>\n",
       "      <th></th>\n",
       "      <th></th>\n",
       "      <th></th>\n",
       "      <th></th>\n",
       "      <th></th>\n",
       "      <th></th>\n",
       "      <th></th>\n",
       "      <th></th>\n",
       "      <th></th>\n",
       "      <th></th>\n",
       "      <th></th>\n",
       "      <th></th>\n",
       "      <th></th>\n",
       "      <th></th>\n",
       "      <th></th>\n",
       "    </tr>\n",
       "  </thead>\n",
       "  <tbody>\n",
       "    <tr>\n",
       "      <th>(vertigo) Paroymsal  Positional Vertigo</th>\n",
       "      <td>0</td>\n",
       "      <td>0</td>\n",
       "      <td>0</td>\n",
       "      <td>0</td>\n",
       "      <td>0</td>\n",
       "      <td>0</td>\n",
       "      <td>0</td>\n",
       "      <td>0</td>\n",
       "      <td>0</td>\n",
       "      <td>0</td>\n",
       "      <td>...</td>\n",
       "      <td>0</td>\n",
       "      <td>0</td>\n",
       "      <td>0</td>\n",
       "      <td>0</td>\n",
       "      <td>0</td>\n",
       "      <td>0</td>\n",
       "      <td>0</td>\n",
       "      <td>0</td>\n",
       "      <td>0</td>\n",
       "      <td>0</td>\n",
       "    </tr>\n",
       "    <tr>\n",
       "      <th>AIDS</th>\n",
       "      <td>0</td>\n",
       "      <td>0</td>\n",
       "      <td>0</td>\n",
       "      <td>0</td>\n",
       "      <td>0</td>\n",
       "      <td>0</td>\n",
       "      <td>0</td>\n",
       "      <td>0</td>\n",
       "      <td>0</td>\n",
       "      <td>0</td>\n",
       "      <td>...</td>\n",
       "      <td>0</td>\n",
       "      <td>0</td>\n",
       "      <td>0</td>\n",
       "      <td>0</td>\n",
       "      <td>0</td>\n",
       "      <td>0</td>\n",
       "      <td>0</td>\n",
       "      <td>0</td>\n",
       "      <td>0</td>\n",
       "      <td>0</td>\n",
       "    </tr>\n",
       "    <tr>\n",
       "      <th>Acne</th>\n",
       "      <td>0</td>\n",
       "      <td>1</td>\n",
       "      <td>0</td>\n",
       "      <td>0</td>\n",
       "      <td>0</td>\n",
       "      <td>0</td>\n",
       "      <td>0</td>\n",
       "      <td>0</td>\n",
       "      <td>0</td>\n",
       "      <td>0</td>\n",
       "      <td>...</td>\n",
       "      <td>1</td>\n",
       "      <td>1</td>\n",
       "      <td>1</td>\n",
       "      <td>0</td>\n",
       "      <td>0</td>\n",
       "      <td>0</td>\n",
       "      <td>0</td>\n",
       "      <td>0</td>\n",
       "      <td>0</td>\n",
       "      <td>0</td>\n",
       "    </tr>\n",
       "    <tr>\n",
       "      <th>Alcoholic hepatitis</th>\n",
       "      <td>0</td>\n",
       "      <td>0</td>\n",
       "      <td>0</td>\n",
       "      <td>0</td>\n",
       "      <td>0</td>\n",
       "      <td>0</td>\n",
       "      <td>0</td>\n",
       "      <td>0</td>\n",
       "      <td>0</td>\n",
       "      <td>0</td>\n",
       "      <td>...</td>\n",
       "      <td>0</td>\n",
       "      <td>0</td>\n",
       "      <td>0</td>\n",
       "      <td>0</td>\n",
       "      <td>0</td>\n",
       "      <td>0</td>\n",
       "      <td>0</td>\n",
       "      <td>0</td>\n",
       "      <td>0</td>\n",
       "      <td>0</td>\n",
       "    </tr>\n",
       "    <tr>\n",
       "      <th>Allergy</th>\n",
       "      <td>0</td>\n",
       "      <td>0</td>\n",
       "      <td>0</td>\n",
       "      <td>1</td>\n",
       "      <td>1</td>\n",
       "      <td>1</td>\n",
       "      <td>0</td>\n",
       "      <td>0</td>\n",
       "      <td>0</td>\n",
       "      <td>0</td>\n",
       "      <td>...</td>\n",
       "      <td>0</td>\n",
       "      <td>0</td>\n",
       "      <td>0</td>\n",
       "      <td>0</td>\n",
       "      <td>0</td>\n",
       "      <td>0</td>\n",
       "      <td>0</td>\n",
       "      <td>0</td>\n",
       "      <td>0</td>\n",
       "      <td>0</td>\n",
       "    </tr>\n",
       "  </tbody>\n",
       "</table>\n",
       "<p>5 rows × 132 columns</p>\n",
       "</div>"
      ],
      "text/plain": [
       "                                         itching  skin_rash  \\\n",
       "prognosis                                                     \n",
       "(vertigo) Paroymsal  Positional Vertigo        0          0   \n",
       "AIDS                                           0          0   \n",
       "Acne                                           0          1   \n",
       "Alcoholic hepatitis                            0          0   \n",
       "Allergy                                        0          0   \n",
       "\n",
       "                                         nodal_skin_eruptions  \\\n",
       "prognosis                                                       \n",
       "(vertigo) Paroymsal  Positional Vertigo                     0   \n",
       "AIDS                                                        0   \n",
       "Acne                                                        0   \n",
       "Alcoholic hepatitis                                         0   \n",
       "Allergy                                                     0   \n",
       "\n",
       "                                         continuous_sneezing  shivering  \\\n",
       "prognosis                                                                 \n",
       "(vertigo) Paroymsal  Positional Vertigo                    0          0   \n",
       "AIDS                                                       0          0   \n",
       "Acne                                                       0          0   \n",
       "Alcoholic hepatitis                                        0          0   \n",
       "Allergy                                                    1          1   \n",
       "\n",
       "                                         chills  joint_pain  stomach_pain  \\\n",
       "prognosis                                                                   \n",
       "(vertigo) Paroymsal  Positional Vertigo       0           0             0   \n",
       "AIDS                                          0           0             0   \n",
       "Acne                                          0           0             0   \n",
       "Alcoholic hepatitis                           0           0             0   \n",
       "Allergy                                       1           0             0   \n",
       "\n",
       "                                         acidity  ulcers_on_tongue  ...  \\\n",
       "prognosis                                                           ...   \n",
       "(vertigo) Paroymsal  Positional Vertigo        0                 0  ...   \n",
       "AIDS                                           0                 0  ...   \n",
       "Acne                                           0                 0  ...   \n",
       "Alcoholic hepatitis                            0                 0  ...   \n",
       "Allergy                                        0                 0  ...   \n",
       "\n",
       "                                         pus_filled_pimples  blackheads  \\\n",
       "prognosis                                                                 \n",
       "(vertigo) Paroymsal  Positional Vertigo                   0           0   \n",
       "AIDS                                                      0           0   \n",
       "Acne                                                      1           1   \n",
       "Alcoholic hepatitis                                       0           0   \n",
       "Allergy                                                   0           0   \n",
       "\n",
       "                                         scurring  skin_peeling  \\\n",
       "prognosis                                                         \n",
       "(vertigo) Paroymsal  Positional Vertigo         0             0   \n",
       "AIDS                                            0             0   \n",
       "Acne                                            1             0   \n",
       "Alcoholic hepatitis                             0             0   \n",
       "Allergy                                         0             0   \n",
       "\n",
       "                                         silver_like_dusting  \\\n",
       "prognosis                                                      \n",
       "(vertigo) Paroymsal  Positional Vertigo                    0   \n",
       "AIDS                                                       0   \n",
       "Acne                                                       0   \n",
       "Alcoholic hepatitis                                        0   \n",
       "Allergy                                                    0   \n",
       "\n",
       "                                         small_dents_in_nails  \\\n",
       "prognosis                                                       \n",
       "(vertigo) Paroymsal  Positional Vertigo                     0   \n",
       "AIDS                                                        0   \n",
       "Acne                                                        0   \n",
       "Alcoholic hepatitis                                         0   \n",
       "Allergy                                                     0   \n",
       "\n",
       "                                         inflammatory_nails  blister  \\\n",
       "prognosis                                                              \n",
       "(vertigo) Paroymsal  Positional Vertigo                   0        0   \n",
       "AIDS                                                      0        0   \n",
       "Acne                                                      0        0   \n",
       "Alcoholic hepatitis                                       0        0   \n",
       "Allergy                                                   0        0   \n",
       "\n",
       "                                         red_sore_around_nose  \\\n",
       "prognosis                                                       \n",
       "(vertigo) Paroymsal  Positional Vertigo                     0   \n",
       "AIDS                                                        0   \n",
       "Acne                                                        0   \n",
       "Alcoholic hepatitis                                         0   \n",
       "Allergy                                                     0   \n",
       "\n",
       "                                         yellow_crust_ooze  \n",
       "prognosis                                                   \n",
       "(vertigo) Paroymsal  Positional Vertigo                  0  \n",
       "AIDS                                                     0  \n",
       "Acne                                                     0  \n",
       "Alcoholic hepatitis                                      0  \n",
       "Allergy                                                  0  \n",
       "\n",
       "[5 rows x 132 columns]"
      ]
     },
     "execution_count": 5,
     "metadata": {},
     "output_type": "execute_result"
    }
   ],
   "source": [
    "reduced_data.head()"
   ]
  },
  {
   "cell_type": "code",
   "execution_count": 6,
   "metadata": {},
   "outputs": [],
   "source": [
    "#mapping strings to numbers\n",
    "le = preprocessing.LabelEncoder()"
   ]
  },
  {
   "cell_type": "code",
   "execution_count": 7,
   "metadata": {},
   "outputs": [
    {
     "data": {
      "text/plain": [
       "LabelEncoder()"
      ]
     },
     "execution_count": 7,
     "metadata": {},
     "output_type": "execute_result"
    }
   ],
   "source": [
    "le.fit(y)"
   ]
  },
  {
   "cell_type": "code",
   "execution_count": 8,
   "metadata": {},
   "outputs": [
    {
     "data": {
      "text/plain": [
       "['(vertigo) Paroymsal  Positional Vertigo',\n",
       " 'AIDS',\n",
       " 'Acne',\n",
       " 'Alcoholic hepatitis',\n",
       " 'Allergy',\n",
       " 'Arthritis',\n",
       " 'Bronchial Asthma',\n",
       " 'Cervical spondylosis',\n",
       " 'Chicken pox',\n",
       " 'Chronic cholestasis',\n",
       " 'Common Cold',\n",
       " 'Dengue',\n",
       " 'Diabetes ',\n",
       " 'Dimorphic hemmorhoids(piles)',\n",
       " 'Drug Reaction',\n",
       " 'Fungal infection',\n",
       " 'GERD',\n",
       " 'Gastroenteritis',\n",
       " 'Heart attack',\n",
       " 'Hepatitis B',\n",
       " 'Hepatitis C',\n",
       " 'Hepatitis D',\n",
       " 'Hepatitis E',\n",
       " 'Hypertension ',\n",
       " 'Hyperthyroidism',\n",
       " 'Hypoglycemia',\n",
       " 'Hypothyroidism',\n",
       " 'Impetigo',\n",
       " 'Jaundice',\n",
       " 'Malaria',\n",
       " 'Migraine',\n",
       " 'Osteoarthristis',\n",
       " 'Paralysis (brain hemorrhage)',\n",
       " 'Peptic ulcer diseae',\n",
       " 'Pneumonia',\n",
       " 'Psoriasis',\n",
       " 'Tuberculosis',\n",
       " 'Typhoid',\n",
       " 'Urinary tract infection',\n",
       " 'Varicose veins',\n",
       " 'hepatitis A']"
      ]
     },
     "execution_count": 8,
     "metadata": {},
     "output_type": "execute_result"
    }
   ],
   "source": [
    "list(le.classes_)"
   ]
  },
  {
   "cell_type": "code",
   "execution_count": 9,
   "metadata": {},
   "outputs": [],
   "source": [
    "y = le.transform(y)"
   ]
  },
  {
   "cell_type": "code",
   "execution_count": 10,
   "metadata": {},
   "outputs": [
    {
     "data": {
      "text/plain": [
       "array([15, 15, 15, ..., 38, 35, 27])"
      ]
     },
     "execution_count": 10,
     "metadata": {},
     "output_type": "execute_result"
    }
   ],
   "source": [
    "y"
   ]
  },
  {
   "cell_type": "code",
   "execution_count": 11,
   "metadata": {},
   "outputs": [],
   "source": [
    "# splitting out data into train and test variables\n",
    "x_train, x_test, y_train, y_test = train_test_split(x, y, test_size=0.33, random_state=42)\n",
    "testx    = testing[cols]\n",
    "testy    = testing['prognosis']  \n",
    "testy    = le.transform(testy)"
   ]
  },
  {
   "cell_type": "code",
   "execution_count": 12,
   "metadata": {},
   "outputs": [],
   "source": [
    "# trying out the decision try model\n",
    "clf1  = DecisionTreeClassifier()\n",
    "clf = clf1.fit(x_train,y_train)"
   ]
  },
  {
   "cell_type": "code",
   "execution_count": 13,
   "metadata": {},
   "outputs": [
    {
     "data": {
      "text/plain": [
       "['prediction_dt.pkl']"
      ]
     },
     "execution_count": 13,
     "metadata": {},
     "output_type": "execute_result"
    }
   ],
   "source": [
    "import joblib\n",
    "# Save to file in the current working directory\n",
    "joblib_file = \"prediction_dt.pkl\"\n",
    "joblib.dump(clf, joblib_file)"
   ]
  },
  {
   "cell_type": "code",
   "execution_count": 14,
   "metadata": {},
   "outputs": [
    {
     "name": "stdout",
     "output_type": "stream",
     "text": [
      "0.9753713341199955\n"
     ]
    }
   ],
   "source": [
    "# print(clf.score(x_train,y_train))\n",
    "# print (\"cross result========\")\n",
    "scores = cross_val_score(clf, x_test, y_test, cv=3)\n",
    "# print (scores)\n",
    "print (scores.mean())"
   ]
  },
  {
   "cell_type": "code",
   "execution_count": 15,
   "metadata": {},
   "outputs": [],
   "source": [
    "model=SVC()"
   ]
  },
  {
   "cell_type": "code",
   "execution_count": 16,
   "metadata": {},
   "outputs": [
    {
     "name": "stdout",
     "output_type": "stream",
     "text": [
      "SVC(C=1.0, break_ties=False, cache_size=200, class_weight=None, coef0=0.0,\n",
      "    decision_function_shape='ovr', degree=3, gamma='scale', kernel='rbf',\n",
      "    max_iter=-1, probability=False, random_state=None, shrinking=True,\n",
      "    tol=0.001, verbose=False)\n"
     ]
    }
   ],
   "source": [
    "print(model)"
   ]
  },
  {
   "cell_type": "code",
   "execution_count": 17,
   "metadata": {},
   "outputs": [
    {
     "name": "stdout",
     "output_type": "stream",
     "text": [
      "for svm: \n",
      "1.0\n"
     ]
    }
   ],
   "source": [
    "model.fit(x_train,y_train)\n",
    "print(\"for svm: \")\n",
    "print(model.score(x_test,y_test))"
   ]
  },
  {
   "cell_type": "code",
   "execution_count": 18,
   "metadata": {},
   "outputs": [],
   "source": [
    "# calculating feature importances\n",
    "importances = clf.feature_importances_\n",
    "indices = np.argsort(importances)[::-1]\n",
    "features = cols"
   ]
  },
  {
   "cell_type": "code",
   "execution_count": 19,
   "metadata": {},
   "outputs": [],
   "source": [
    "def readn(nstr):\n",
    "    engine = pyttsx3.init()\n",
    "\n",
    "    engine.setProperty('voice', \"english+f5\")\n",
    "    engine.setProperty('rate', 130)\n",
    "\n",
    "    engine.say(nstr)\n",
    "    engine.runAndWait()\n",
    "    engine.stop()"
   ]
  },
  {
   "cell_type": "code",
   "execution_count": 20,
   "metadata": {},
   "outputs": [],
   "source": [
    "severityDictionary=dict()\n",
    "description_list = dict()\n",
    "precautionDictionary=dict()"
   ]
  },
  {
   "cell_type": "code",
   "execution_count": 21,
   "metadata": {},
   "outputs": [],
   "source": [
    "symptoms_dict = {}\n",
    "\n",
    "for index, symptom in enumerate(x):\n",
    "       symptoms_dict[symptom] = index"
   ]
  },
  {
   "cell_type": "code",
   "execution_count": 22,
   "metadata": {},
   "outputs": [],
   "source": [
    "def calc_condition(exp,days):\n",
    "    sum=0\n",
    "    for item in exp:\n",
    "         sum=sum+severityDictionary[item]\n",
    "    if((sum*days)/(len(exp)+1)>13):\n",
    "        print(\"You should take the consultation from doctor. \")\n",
    "    else:\n",
    "        print(\"It might not be that bad but you should take precautions.\")"
   ]
  },
  {
   "cell_type": "code",
   "execution_count": 23,
   "metadata": {},
   "outputs": [],
   "source": [
    "def getDescription():\n",
    "    global description_list\n",
    "    with open('SH-chatbot-Data/symptom_Description.csv') as csv_file:\n",
    "        csv_reader = csv.reader(csv_file, delimiter=',')\n",
    "        line_count = 0\n",
    "        for row in csv_reader:\n",
    "            _description={row[0]:row[1]}\n",
    "            description_list.update(_description)"
   ]
  },
  {
   "cell_type": "code",
   "execution_count": 24,
   "metadata": {},
   "outputs": [],
   "source": [
    "def getSeverityDict():\n",
    "    global severityDictionary    \n",
    "    with open('SH-chatbot-Data/symptom_severity.csv') as csv_file:\n",
    "        csv_reader = csv.reader(csv_file, delimiter=',')\n",
    "        line_count= 0\n",
    "        for row in csv_reader:\n",
    "            if(row):\n",
    "                _diction={row[0]:int(row[1])}\n",
    "                severityDictionary.update(_diction)"
   ]
  },
  {
   "cell_type": "code",
   "execution_count": 25,
   "metadata": {},
   "outputs": [],
   "source": [
    "def getprecautionDict():\n",
    "    global precautionDictionary\n",
    "    with open('SH-chatbot-Data/symptom_precaution.csv') as csv_file:\n",
    "\n",
    "        csv_reader = csv.reader(csv_file, delimiter=',')\n",
    "        line_count = 0\n",
    "        for row in csv_reader:\n",
    "            _prec={row[0]:[row[1],row[2],row[3],row[4]]}\n",
    "            precautionDictionary.update(_prec)"
   ]
  },
  {
   "cell_type": "code",
   "execution_count": 26,
   "metadata": {},
   "outputs": [],
   "source": [
    "def getInfo():\n",
    "    # name=input(\"Name:\")\n",
    "    print(\"Your Name \\n\\t\\t\\t\\t\\t\\t\",end=\"->\")\n",
    "    name=input(\"\")\n",
    "    print(\"hello \",name)"
   ]
  },
  {
   "cell_type": "code",
   "execution_count": 27,
   "metadata": {},
   "outputs": [
    {
     "name": "stdout",
     "output_type": "stream",
     "text": [
      "Your Name \n",
      "\t\t\t\t\t\t->sirri\n",
      "hello  sirri\n"
     ]
    }
   ],
   "source": [
    "getInfo()"
   ]
  },
  {
   "cell_type": "code",
   "execution_count": null,
   "metadata": {},
   "outputs": [],
   "source": []
  },
  {
   "cell_type": "code",
   "execution_count": 28,
   "metadata": {},
   "outputs": [],
   "source": [
    "def check_pattern(dis_list,inp):\n",
    "    import re\n",
    "    pred_list=[]\n",
    "    ptr=0\n",
    "    inp = inp.lower()\n",
    "    res = len(inp.split())\n",
    "    if res > 1:\n",
    "        inp = inp.replace(\" \", \"_\")\n",
    "    print(inp)\n",
    "    patt = \"^\" + inp + \"$\"\n",
    "    regexp = re.compile(inp)\n",
    "    for item in dis_list:\n",
    "\n",
    "#         print(f\"comparing {inp} to {item}\")\n",
    "        if regexp.search(item):\n",
    "            pred_list.append(item)\n",
    "            # return 1,item\n",
    "    if(len(pred_list)>0):\n",
    "        return 1,pred_list\n",
    "    else:\n",
    "        return ptr,item\n",
    "    "
   ]
  },
  {
   "cell_type": "code",
   "execution_count": 29,
   "metadata": {},
   "outputs": [],
   "source": [
    "import joblib"
   ]
  },
  {
   "cell_type": "code",
   "execution_count": 30,
   "metadata": {},
   "outputs": [],
   "source": [
    "joblib_file = \"prediction_model.pkl\""
   ]
  },
  {
   "cell_type": "code",
   "execution_count": 31,
   "metadata": {},
   "outputs": [],
   "source": [
    "# Load from file\n",
    "joblib_model = joblib.load(joblib_file)"
   ]
  },
  {
   "cell_type": "code",
   "execution_count": 32,
   "metadata": {},
   "outputs": [],
   "source": [
    "def sec_predict(symptoms_exp):\n",
    "    df = pd.read_csv('SH-chatbot-Data/Training.csv')\n",
    "    X = df.iloc[:, :-1]\n",
    "    y = df['prognosis']\n",
    "    X_train, X_test, y_train, y_test = train_test_split(X, y, test_size=0.3, random_state=20)\n",
    "    rf_clf = DecisionTreeClassifier()\n",
    "    rf_clf.fit(X_train, y_train)\n",
    "\n",
    "    symptoms_dict = {}\n",
    "\n",
    "    for index, symptom in enumerate(X):\n",
    "        symptoms_dict[symptom] = index\n",
    "\n",
    "    input_vector = np.zeros(len(symptoms_dict))\n",
    "    for item in symptoms_exp:\n",
    "        input_vector[[symptoms_dict[item]]] = 1\n",
    "\n",
    "\n",
    "    return rf_clf.predict([input_vector])\n"
   ]
  },
  {
   "cell_type": "code",
   "execution_count": 33,
   "metadata": {},
   "outputs": [],
   "source": [
    "def print_disease(node):\n",
    "    #print(node)\n",
    "    node = node[0]\n",
    "    #print(len(node))\n",
    "    val  = node.nonzero() \n",
    "    # print(val)\n",
    "    disease = le.inverse_transform(val[0])\n",
    "    return disease"
   ]
  },
  {
   "cell_type": "code",
   "execution_count": null,
   "metadata": {},
   "outputs": [
    {
     "name": "stdout",
     "output_type": "stream",
     "text": [
      "Your Name \n",
      "\t\t\t\t\t\t->"
     ]
    }
   ],
   "source": [
    "def tree_to_code(tree, feature_names):\n",
    "    tree_ = tree.tree_\n",
    "    # print(tree_)\n",
    "    feature_name = [\n",
    "        feature_names[i] if i != _tree.TREE_UNDEFINED else \"undefined!\"\n",
    "        for i in tree_.feature\n",
    "    ]\n",
    "\n",
    "    chk_dis=\",\".join(feature_names).split(\",\")\n",
    "    symptoms_present = []\n",
    "\n",
    "\n",
    "    # conf_inp=int()\n",
    "    while True:\n",
    "\n",
    "        print(\"Enter the symptom you are experiencing  \\n\\t\\t\\t\\t\\t\\t\",end=\"->\")\n",
    "        disease_input = input(\"\")\n",
    "        conf,cnf_dis = check_pattern(chk_dis,disease_input)\n",
    "        if conf == 1:\n",
    "            print(\"searches related to input: \")\n",
    "            for num,it in enumerate(cnf_dis):\n",
    "                print(num,\")\",it)\n",
    "            if num!=0:\n",
    "                print(f\"Select the one you meant (0 - {num}):  \", end=\"\")\n",
    "                conf_inp = int(input(\"\"))\n",
    "            else:\n",
    "                conf_inp=0\n",
    "\n",
    "            disease_input = cnf_dis[conf_inp]\n",
    "            break\n",
    "            # print(\"Did you mean: \",cnf_dis,\"?(yes/no) :\",end=\"\")\n",
    "            # conf_inp = input(\"\")\n",
    "            # if(conf_inp==\"yes\"):\n",
    "            #     break\n",
    "        else:\n",
    "            print(\"Enter valid symptom.\")\n",
    "\n",
    "    while True:\n",
    "        try:\n",
    "            num_days=int(input(\"Okay. From how many days ? : \"))\n",
    "            break\n",
    "        except:\n",
    "            print(\"Enter number of days.\")\n",
    "    def recurse(node, depth):\n",
    "        indent = \"  \" * depth\n",
    "        if tree_.feature[node] != _tree.TREE_UNDEFINED:\n",
    "            name = feature_name[node]\n",
    "            threshold = tree_.threshold[node]\n",
    "\n",
    "            if name == disease_input:\n",
    "                val = 1\n",
    "            else:\n",
    "                val = 0\n",
    "            if  val <= threshold:\n",
    "                recurse(tree_.children_left[node], depth + 1)\n",
    "            else:\n",
    "                symptoms_present.append(name)\n",
    "                recurse(tree_.children_right[node], depth + 1)\n",
    "        else:\n",
    "            present_disease = print_disease(tree_.value[node])\n",
    "            # print( \"You may have \" +  present_disease )\n",
    "            red_cols = reduced_data.columns \n",
    "            symptoms_given = red_cols[reduced_data.loc[present_disease].values[0].nonzero()]\n",
    "            # dis_list=list(symptoms_present)\n",
    "            # if len(dis_list)!=0:\n",
    "            #     print(\"symptoms present  \" + str(list(symptoms_present)))\n",
    "            # print(\"symptoms given \"  +  str(list(symptoms_given)) )\n",
    "            print(\"Are you experiencing any \")\n",
    "            symptoms_exp=[]\n",
    "            for syms in list(symptoms_given):\n",
    "                inp=\"\"\n",
    "                print(syms,\"? : \",end='')\n",
    "                while True:\n",
    "                    inp=input(\"\")\n",
    "                    if(inp==\"yes\" or inp==\"no\"):\n",
    "                        break\n",
    "                    else:\n",
    "                        print(\"provide proper answers i.e. (yes/no) : \",end=\"\")\n",
    "                if(inp==\"yes\"):\n",
    "                    symptoms_exp.append(syms)\n",
    "\n",
    "            second_prediction=sec_predict(symptoms_exp)\n",
    "            print(second_prediction)\n",
    "            calc_condition(symptoms_exp,num_days)\n",
    "            if(present_disease[0] == second_prediction[0]):\n",
    "                print(\"You may have \", present_disease[0])\n",
    "\n",
    "                print(description_list[present_disease[0]])\n",
    "\n",
    "                # readn(f\"You may have {present_disease[0]}\")\n",
    "                # readn(f\"{description_list[present_disease[0]]}\")\n",
    "\n",
    "            else:\n",
    "                print(\"You may have \", present_disease[0], \"or \", second_prediction[0])\n",
    "                print(description_list[present_disease[0]])\n",
    "                print(description_list[second_prediction[0]])\n",
    "\n",
    "            # print(description_list[present_disease[0]])\n",
    "            precution_list=precautionDictionary[present_disease[0]]\n",
    "            print(\"Take following measures : \")\n",
    "            for  i,j in enumerate(precution_list):\n",
    "                print(i+1,\")\",j)\n",
    "\n",
    "            # confidence_level = (1.0*len(symptoms_present))/len(symptoms_given)\n",
    "            # print(\"confidence level is \" + str(confidence_level))\n",
    "\n",
    "    recurse(0, 1)\n",
    "getSeverityDict()\n",
    "getDescription()\n",
    "getprecautionDict()\n",
    "getInfo()\n",
    "tree_to_code(clf,cols)"
   ]
  }
 ],
 "metadata": {
  "kernelspec": {
   "display_name": "Python 3",
   "language": "python",
   "name": "python3"
  },
  "language_info": {
   "codemirror_mode": {
    "name": "ipython",
    "version": 3
   },
   "file_extension": ".py",
   "mimetype": "text/x-python",
   "name": "python",
   "nbconvert_exporter": "python",
   "pygments_lexer": "ipython3",
   "version": "3.7.6"
  }
 },
 "nbformat": 4,
 "nbformat_minor": 4
}
